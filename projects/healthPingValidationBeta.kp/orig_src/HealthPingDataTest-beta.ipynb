{
 "cells": [
  {
   "cell_type": "raw",
   "metadata": {},
   "source": [
    "---\n",
    "title: \"Health ping data analysis (Beta)\"\n",
    "authors:\n",
    "- Kate Ustiuzhanina\n",
    "tags:\n",
    "- firefox, telemetry, health\n",
    "created_at: 2017-08-24\n",
    "updated_at: 2017-08-24\n",
    "tldr: Validate incoming data for the new health ping and look at how clients behave.\n",
    "---"
   ]
  },
  {
   "cell_type": "code",
   "execution_count": null,
   "metadata": {
    "collapsed": false
   },
   "outputs": [],
   "source": [
    "import ujson as json\n",
    "import matplotlib.pyplot as plt\n",
    "import pandas as pd\n",
    "import numpy as np\n",
    "import plotly.plotly as py\n",
    "import pandas as pd\n",
    "\n",
    "from plotly.graph_objs import *\n",
    "from moztelemetry import get_pings_properties, get_one_ping_per_client\n",
    "from moztelemetry.dataset import Dataset\n",
    "from collections import Counter\n",
    "import operator\n",
    "\n",
    "get_ipython().magic(u'matplotlib inline')"
   ]
  },
  {
   "cell_type": "code",
   "execution_count": null,
   "metadata": {
    "collapsed": false
   },
   "outputs": [],
   "source": [
    "pings = Dataset.from_source(\"telemetry\") \\\n",
    "                .where(docType='health', appUpdateChannel=\"beta\") \\\n",
    "                .records(sc, sample=1)\n",
    "        \n",
    "cachedData = get_pings_properties(pings, [\"creationDate\", \"payload/pingDiscardedForSize\", \"payload/sendFailure\", \n",
    "                                             \"clientId\", \"meta/submissionDate\", \"payload/os\", \"payload/reason\", \"application/version\"]).cache()"
   ]
  },
  {
   "cell_type": "markdown",
   "metadata": {
    "collapsed": false
   },
   "source": [
    "# Compute failures stats for each failure: sendFailure, discardedForSize. \n",
    "\n",
    "* for sendFailure stats include health ping count per failure type\n",
    "* for discardedForSize stats include health ping count per ping type"
   ]
  },
  {
   "cell_type": "code",
   "execution_count": null,
   "metadata": {
    "collapsed": false
   },
   "outputs": [],
   "source": [
    "def aggregateFailures(first, second):\n",
    "    if first is None:\n",
    "        return second\n",
    "    if second is None:\n",
    "        return first\n",
    "    \n",
    "    res = first\n",
    "    for k, v in second.items():\n",
    "        if isinstance(v, int):\n",
    "            if k in res:\n",
    "                res[k] += v\n",
    "            else: \n",
    "                res[k] = v;\n",
    "    return res"
   ]
  },
  {
   "cell_type": "code",
   "execution_count": null,
   "metadata": {
    "collapsed": false
   },
   "outputs": [],
   "source": [
    "# return array of pairs [(failureName, {failureStatistic: count, ....}), ...]\n",
    "# e.g. [(discardedForSize, {\"main\": 3, \"crash\": 5}), (sendFailure, {\"timeout\" : 34})]\n",
    "def getFailuresStatPerFailureName(pings, failureNames):\n",
    "    def reduceFailure(failureName):\n",
    "        return pings.map(lambda p: p[failureName]).reduce(aggregateFailures)\n",
    "    \n",
    "    return [(name, reduceFailure(name)) for name in failureNames]"
   ]
  },
  {
   "cell_type": "code",
   "execution_count": null,
   "metadata": {
    "collapsed": false
   },
   "outputs": [],
   "source": [
    "failuresNames = [\"payload/pingDiscardedForSize\", \"payload/sendFailure\"]"
   ]
  },
  {
   "cell_type": "code",
   "execution_count": null,
   "metadata": {
    "collapsed": false
   },
   "outputs": [],
   "source": [
    "failuresStat = getFailuresStatPerFailureName(cachedData, failuresNames)\n",
    "for fs in failuresStat:\n",
    "    plt.title(fs[0])\n",
    "    plt.bar(range(len(fs[1])), fs[1].values(), align='center')\n",
    "    plt.xticks(range(len(fs[1])), fs[1].keys(), rotation=90)\n",
    "    plt.show()\n",
    "    print fs"
   ]
  },
  {
   "cell_type": "markdown",
   "metadata": {
    "collapsed": false
   },
   "source": [
    "Unknown currently represent all oversized pending pings. (https://bugzilla.mozilla.org/show_bug.cgi?id=1384903)"
   ]
  },
  {
   "cell_type": "markdown",
   "metadata": {},
   "source": [
    "# sendFailures/discardedForSize per ping."
   ]
  },
  {
   "cell_type": "code",
   "execution_count": null,
   "metadata": {
    "collapsed": true
   },
   "outputs": [],
   "source": [
    "import matplotlib.dates as mdates\n",
    "def plotlistofTuples(listOfTuples, title=\"\", inColor='blue'):\n",
    "    keys = [t[0] for t in listOfTuples]\n",
    "    values = [t[1] for t in listOfTuples]\n",
    "\n",
    "    plt.figure(1)\n",
    "    fig = plt.gcf()\n",
    "    fig.set_size_inches(15, 7)\n",
    "\n",
    "    plt.title(title)\n",
    "    plt.gca().xaxis.set_major_formatter(mdates.DateFormatter('%m/%d/%Y'))\n",
    "    plt.bar(range(len(listOfTuples)), values, align='center', color=inColor)\n",
    "    plt.xticks(range(len(listOfTuples)), keys, rotation=90)"
   ]
  },
  {
   "cell_type": "code",
   "execution_count": null,
   "metadata": {
    "collapsed": true
   },
   "outputs": [],
   "source": [
    "EXPECTED_SENDFAILURES_COUNT = 60\n",
    "def failureCountReasonPerPing(pings, failureName):\n",
    "    pingsWithSendFailure = pings.filter(lambda ping: ping[failureName] != None) \n",
    "    return pingsWithSendFailure.map(lambda ping: (sum(ping[failureName].values()), ping[\"payload/reason\"])).collect()\n",
    "\n",
    "def describefailureDistribution(sendFailureCountDistr, failureName):\n",
    "    failuresCount = [k for k, v in sendFailureCountDistr]\n",
    "    pingsPerDaySeries = pd.Series(failuresCount)\n",
    "    print pingsPerDaySeries.describe([.25, .5, .75, .95])\n",
    "    \n",
    "    plt.title(failureName + \" per ping distribution.\")\n",
    "    plt.yscale('log')\n",
    "    plt.ylabel('log(' + failureName + ' count)')\n",
    "    plt.xlabel('ping')\n",
    "    plt.plot(sorted(failuresCount))\n",
    "    plt.show()\n",
    "\n",
    "def decribeReasonDistribution(sendFailureCountDistr, failureName):\n",
    "    unexpectedPingsCount = [(k, v) for k, v in sendFailureCountDistr if k > EXPECTED_SENDFAILURES_COUNT]\n",
    "    print \"Pings reported more than \" + str(EXPECTED_SENDFAILURES_COUNT) + \" \" + str(len(unexpectedPingsCount))\n",
    "    \n",
    "    if len(unexpectedPingsCount) != 0:\n",
    "        reasonStat = Counter([v for k, v in unexpectedPingsCount])  \n",
    "        plotlistofTuples(reasonStat.items(), title=\"Reason distribution for pings reported more than \" + str(EXPECTED_SENDFAILURES_COUNT) + \" \" + failureName)\n",
    "        plt.xlabel('reason') \n",
    "        plt.ylabel('count')\n",
    "        plt.show()\n",
    "\n",
    "\n",
    "def describe(pings, failure):\n",
    "    print \"\\n COMPUTATION FOR \" + failure + \"\\n\"\n",
    "    countAndReason = failureCountReasonPerPing(pings, failure)\n",
    "    decribeReasonDistribution(countAndReason, failure) \n",
    "    describefailureDistribution(countAndReason, failure)\n"
   ]
  },
  {
   "cell_type": "code",
   "execution_count": null,
   "metadata": {
    "collapsed": false
   },
   "outputs": [],
   "source": [
    "for f in failuresNames:\n",
    "    describe(cachedData, f) "
   ]
  },
  {
   "cell_type": "markdown",
   "metadata": {},
   "source": [
    "# Validate payload\n",
    "Check that:\n",
    "* required fields are non-empty.\n",
    "* payload/reason contains only expected values (\"immediate\", \"delayed\", \"shutdown\").\n",
    "* payload/sendFailure and payload/discardedForSize are non empty together.\n",
    "* count paramter in payload/sendFailure and payload/discardedForSize has type int.\n",
    "* sendFailureType contains only expected values (\"eOK\", \"eRequest\", \"eUnreachable\", \"eChannelOpen\", \"eRedirect\", \"abort\", \"timeout\").\n",
    "* payload/discardedForSize contains only 10 records.\n",
    "* check the distribution of sendFailures (sum) per ping. We expected to have this number not more than 60. "
   ]
  },
  {
   "cell_type": "code",
   "execution_count": null,
   "metadata": {
    "collapsed": false
   },
   "outputs": [],
   "source": [
    "def validate(ping):\n",
    "    OK = \"\"\n",
    "    MUST_NOT_BE_EMPTY = \"must not be empty\"\n",
    "\n",
    "    # validate os\n",
    "    clientId = ping[\"clientId\"]\n",
    "    \n",
    "    if clientId == None:\n",
    "        return (\"clientId \" + MUST_NOT_BE_EMPTY, ping)\n",
    "    \n",
    "    os = ping[\"payload/os\"]\n",
    "    if os == None:\n",
    "        return (\"OS \" + MUST_NOT_BE_EMPTY, ping)\n",
    "\n",
    "    name, version = os.items()\n",
    "    if name == None:\n",
    "        return (\"OS name \" + MUST_NOT_BE_EMPTY, ping)\n",
    "    if version == None:\n",
    "        return (\"OS version \" + MUST_NOT_BE_EMPTY, ping)\n",
    "    \n",
    "    # validate reason\n",
    "    reason = ping[\"payload/reason\"]\n",
    "    if reason == None:\n",
    "        return (\"Reason \" + MUST_NOT_BE_EMPTY, ping)\n",
    "    \n",
    "    if not reason in [\"immediate\", \"delayed\", \"shutdown\"]:\n",
    "        return (\"Reason must be equal to immediate, delayed or shutdown\", ping)\n",
    "    \n",
    "    # doesn't contain failures\n",
    "    sendFailure = ping[\"payload/sendFailure\"]\n",
    "    pingDiscardedForSize = ping[\"payload/pingDiscardedForSize\"]\n",
    "    if sendFailure == None and pingDiscardedForSize == None:\n",
    "        return (\"Ping must countain at least one of the failures\", ping)\n",
    "\n",
    "    \n",
    "    # validate sendFailure\n",
    "    supportedFailureTypes = [\"eOK\", \"eRequest\", \"eUnreachable\", \"eChannelOpen\", \"eRedirect\", \"abort\", \"timeout\"]\n",
    "    if sendFailure != None and len(sendFailure) > len(supportedFailureTypes):\n",
    "        return (\"send Failure accept only 8 send failures\", ping)\n",
    "    \n",
    "    if sendFailure != None:\n",
    "        for key in sendFailure.keys():\n",
    "            if not key in supportedFailureTypes:\n",
    "                return (key + \" type is not supported\", ping)\n",
    "        for count in sendFailure.values():\n",
    "            if not isinstance(count, int):\n",
    "                return (\"Count must be int type\", ping)\n",
    "        if sum(sendFailure.values()) > 60:\n",
    "            return (\"sendFailure count must not be more than 60\", ping)\n",
    "\n",
    "    \n",
    "     # validate pingDiscardedForSize\n",
    "    if pingDiscardedForSize != None:\n",
    "        if len(pingDiscardedForSize) > 10:\n",
    "            return (\"pingDicardedForSize accept only top ten pings types\", ping)\n",
    "        for count in pingDiscardedForSize.values():\n",
    "            if not isinstance(count, int):\n",
    "                return (\"Count must be int type\", ping)\n",
    "    \n",
    "    return (OK, ping)\n",
    "\n",
    "# retrieve all needed fields \n",
    "validatedData = cachedData.map(validate)   \n",
    "errorsPerProblem = validatedData.countByKey()   \n",
    "errorsPerProblem"
   ]
  },
  {
   "cell_type": "markdown",
   "metadata": {},
   "source": [
    "# Investigate errors"
   ]
  },
  {
   "cell_type": "code",
   "execution_count": null,
   "metadata": {
    "collapsed": false
   },
   "outputs": [],
   "source": [
    "def printOSReason(data):\n",
    "    return \"os: \" + str(data[0]) + \" reason: \" + str(data[1])\n",
    "\n",
    "def osAndReasonForErros(error):\n",
    "    result = validatedData.filter(lambda pair: pair[0] == error).map(lambda pair: (pair[1][\"payload/os\"], pair[1][\"payload/reason\"])).collect()\n",
    "    return result[:min(10, len(result))]\n",
    "  \n",
    "print \"Show only 10 info lines per problem \\n\"\n",
    "for err in errorsPerProblem.keys():\n",
    "    if err != '':\n",
    "        print err\n",
    "        print \"\\n\".join(map(printOSReason, osAndReasonForErros(err)))\n",
    "        print \"\\n\""
   ]
  },
  {
   "cell_type": "markdown",
   "metadata": {},
   "source": [
    "# Compute pings count per day\n",
    "This includes showing diagrams and printing stats"
   ]
  },
  {
   "cell_type": "code",
   "execution_count": null,
   "metadata": {
    "collapsed": false
   },
   "outputs": [],
   "source": [
    "from datetime import datetime\n",
    "\n",
    "def pingsCountPerDay(pings):\n",
    "    return pings.map(lambda ping: ping[\"meta/submissionDate\"]).countByValue()\n",
    "\n",
    "resultDictionary = pingsCountPerDay(cachedData)"
   ]
  },
  {
   "cell_type": "code",
   "execution_count": null,
   "metadata": {
    "collapsed": true
   },
   "outputs": [],
   "source": [
    "import matplotlib.dates as mdates\n",
    "def plotlistofTuples(listOfTuples, title=\"\", inColor='blue'):\n",
    "    keys = [t[0] for t in listOfTuples]\n",
    "    values = [t[1] for t in listOfTuples]\n",
    "\n",
    "    plt.figure(1)\n",
    "    fig = plt.gcf()\n",
    "    fig.set_size_inches(15, 7)\n",
    "\n",
    "    plt.title(title)\n",
    "    plt.gca().xaxis.set_major_formatter(mdates.DateFormatter('%m/%d/%Y'))\n",
    "    plt.bar(range(len(listOfTuples)), values, align='center', color=inColor)\n",
    "    plt.xticks(range(len(listOfTuples)), keys, rotation=90)\n"
   ]
  },
  {
   "cell_type": "code",
   "execution_count": null,
   "metadata": {
    "collapsed": false
   },
   "outputs": [],
   "source": [
    "plotlistofTuples(sorted(resultDictionary.items(), key=lambda tup: tup[0]), \"Pings count per day\") \n",
    "plt.xlabel('meta/submissionDate') \n",
    "plt.ylabel('pings count')\n",
    "plt.show()"
   ]
  },
  {
   "cell_type": "code",
   "execution_count": null,
   "metadata": {
    "collapsed": false
   },
   "outputs": [],
   "source": [
    "pingsPerDaySeries = pd.Series(resultDictionary.values())\n",
    "pingsPerDaySeries.describe([.25, .5, .75, .95])"
   ]
  },
  {
   "cell_type": "markdown",
   "metadata": {},
   "source": [
    "# Compute how many clients are reporting"
   ]
  },
  {
   "cell_type": "code",
   "execution_count": null,
   "metadata": {
    "collapsed": false
   },
   "outputs": [],
   "source": [
    "def getClients(pings):\n",
    "    clients = pings.map(lambda ping: ping[\"clientId\"]).distinct()\n",
    "    return clients"
   ]
  },
  {
   "cell_type": "code",
   "execution_count": null,
   "metadata": {
    "collapsed": false
   },
   "outputs": [],
   "source": [
    "clientsCount = getClients(cachedData).count()\n",
    "print \"Clients number = \" + str(clientsCount)"
   ]
  },
  {
   "cell_type": "markdown",
   "metadata": {},
   "source": [
    "# Compute average number of pings per client per day\n",
    "\n",
    "* We expect at most 24 pings per day as we send no more than one \"health\" ping per hour\n",
    "* This includes showing diagrams and printing stats\n",
    "\n"
   ]
  },
  {
   "cell_type": "code",
   "execution_count": null,
   "metadata": {
    "collapsed": false
   },
   "outputs": [],
   "source": [
    "from collections import Counter\n",
    "\n",
    "def getAvgPerDate(iterable):\n",
    "    aggregare = Counter(iterable)\n",
    "    result = sum(aggregare.values()) * 1.0 / len(aggregare)\n",
    "    return result\n",
    "\n",
    "def pingsPerClientPerDay(pings, date):\n",
    "    return pings.map(lambda ping: (ping[\"clientId\"], ping[date])).groupByKey()\n",
    "\n",
    "def avgPingsPerClientPerDay(pings, date):\n",
    "    idDateRDD = pingsPerClientPerDay(pings, date)\n",
    "    return idDateRDD.map(lambda pair: getAvgPerDate(pair[1])).collect()"
   ]
  },
  {
   "cell_type": "code",
   "execution_count": null,
   "metadata": {
    "collapsed": false
   },
   "outputs": [],
   "source": [
    "def plotAvgPingPerDateDistr(pings, date):\n",
    "    PINGS_COUNT_PER_DAY = 24\n",
    "    resultDistributionList = avgPingsPerClientPerDay(pings, date)\n",
    "    values = [v for v in resultDistributionList if v > PINGS_COUNT_PER_DAY]\n",
    "    print date + \" : clients sending too many \\\"health\\\" pings per day - \" + str(len(values))\n",
    "    if len(values) > 0:\n",
    "        plt.title(\"Average pings per day per client\")\n",
    "        plt.ylabel('log(average ping count)')\n",
    "        plt.xlabel('clientId (anonymized)')\n",
    "        plt.yscale('log')\n",
    "        plt.plot(sorted(values))  \n",
    "        plt.show()"
   ]
  },
  {
   "cell_type": "code",
   "execution_count": null,
   "metadata": {
    "collapsed": false
   },
   "outputs": [],
   "source": [
    "plotAvgPingPerDateDistr(cachedData, \"meta/submissionDate\")\n",
    "plotAvgPingPerDateDistr(cachedData, \"creationDate\")"
   ]
  },
  {
   "cell_type": "markdown",
   "metadata": {},
   "source": [
    "Turns out, clients submit health pings properly (less that 24/day) but we get them on server with some delay"
   ]
  },
  {
   "cell_type": "markdown",
   "metadata": {},
   "source": [
    "# Daily active Health ping clients against DAU"
   ]
  },
  {
   "cell_type": "markdown",
   "metadata": {
    "collapsed": true
   },
   "source": [
    "ratio = DAU beta / health ping clients count. \n",
    "\n",
    "DAU beta from here: https://sql.telemetry.mozilla.org/queries/15337/source#table\n",
    "health ping clients count: precomputed"
   ]
  },
  {
   "cell_type": "code",
   "execution_count": null,
   "metadata": {
    "collapsed": false
   },
   "outputs": [],
   "source": [
    "ratio = [('20170810', 0.75), ('20170811', 0.35), \\\n",
    "         ('20170812', 0.4), ('20170813', 0.59), ('20170814', 0.43), ('20170815', 0.73), ('20170816', 0.78), \\\n",
    "         ('20170817', 0.52), ('20170818', 0.38), ('20170819', 0.46), ('20170820', 0.62), ('20170821', 0.43), \\\n",
    "         ('20170822', 0.42), ('20170823', 0.45)]"
   ]
  },
  {
   "cell_type": "code",
   "execution_count": null,
   "metadata": {
    "collapsed": false
   },
   "outputs": [],
   "source": [
    "plotlistofTuples(sorted(ratio), inColor='red')\n",
    "plt.xlabel('meta/submissionDate') \n",
    "plt.ylabel('ratio')\n"
   ]
  },
  {
   "cell_type": "markdown",
   "metadata": {},
   "source": [
    "Conclusion: Almost half of the DAU submits health ping. It is seemsed to be because of sendFailure types: eChannelOpen and eUnreachable. \n",
    "\n",
    "* eChannelOpen - This error happen when we failed to open channel, maybe it is better to avoid closing the channel and reuse existed channels instead. \n",
    "\n",
    "* eUnreachable - Probably internet connection problems. "
   ]
  },
  {
   "cell_type": "code",
   "execution_count": null,
   "metadata": {
    "collapsed": true
   },
   "outputs": [],
   "source": []
  }
 ],
 "metadata": {
  "anaconda-cloud": {},
  "kernelspec": {
   "display_name": "Python [default]",
   "language": "python",
   "name": "python2"
  },
  "language_info": {
   "codemirror_mode": {
    "name": "ipython",
    "version": 2
   },
   "file_extension": ".py",
   "mimetype": "text/x-python",
   "name": "python",
   "nbconvert_exporter": "python",
   "pygments_lexer": "ipython2",
   "version": "2.7.12"
  }
 },
 "nbformat": 4,
 "nbformat_minor": 1
}